{
 "cells": [
  {
   "cell_type": "code",
   "execution_count": 1,
   "metadata": {},
   "outputs": [],
   "source": [
    "import pandas as pd\n",
    "import numpy as np\n",
    "import os\n",
    "import matplotlib.pyplot as plt"
   ]
  },
  {
   "cell_type": "code",
   "execution_count": 2,
   "metadata": {},
   "outputs": [],
   "source": [
    "pd.set_option('max_colwidth', 400)"
   ]
  },
  {
   "cell_type": "code",
   "execution_count": 3,
   "metadata": {},
   "outputs": [],
   "source": [
    "datapath_base = 'data/negotiate/'\n",
    "datapath_pp = 'data/negotiate_prepend/'\n",
    "datapath_rp = 'data/negotiate_replace/'"
   ]
  },
  {
   "cell_type": "code",
   "execution_count": 4,
   "metadata": {},
   "outputs": [],
   "source": [
    "def load_dfs(datapath):\n",
    "    dfs = []\n",
    "    for file in os.listdir(datapath):\n",
    "        if \"csv\" in file:\n",
    "            df = pd.read_csv(os.path.join(datapath, file), index_col = 0)\n",
    "            #collapse no deal tokens\n",
    "            df.loc[df['target'].str.contains('<disagree>'), 'target'] = \"Disagree\"\n",
    "            df.loc[df['target'].str.contains('<no agreement>'), 'target'] = \"Disagree\"\n",
    "            df.loc[df['target'].str.contains('<disconnect>'), 'target'] = \"Disagree\"\n",
    "            df.loc[df['output'].str.contains('<disagree>'), 'output'] = \"Disagree\"\n",
    "            df.loc[df['output'].str.contains('<no agreement>'), 'output'] = \"Disagree\"\n",
    "            df.loc[df['output'].str.contains('<disconnect>'), 'output'] = \"Disagree\"\n",
    "            dfs.append(df)\n",
    "    return dfs"
   ]
  },
  {
   "cell_type": "code",
   "execution_count": 5,
   "metadata": {},
   "outputs": [],
   "source": [
    "base_dfs = load_dfs(datapath_base)\n",
    "pp_dfs = load_dfs(datapath_pp)\n",
    "rp_dfs = load_dfs(datapath_rp)"
   ]
  },
  {
   "cell_type": "code",
   "execution_count": 6,
   "metadata": {},
   "outputs": [],
   "source": [
    "def get_acc(df_list):\n",
    "    accs = []\n",
    "    for df in df_list:\n",
    "        accs.append((df['target'] == df['output']).mean() * 100)\n",
    "    return accs"
   ]
  },
  {
   "cell_type": "code",
   "execution_count": 7,
   "metadata": {},
   "outputs": [
    {
     "data": {
      "text/html": [
       "<div>\n",
       "<style scoped>\n",
       "    .dataframe tbody tr th:only-of-type {\n",
       "        vertical-align: middle;\n",
       "    }\n",
       "\n",
       "    .dataframe tbody tr th {\n",
       "        vertical-align: top;\n",
       "    }\n",
       "\n",
       "    .dataframe thead th {\n",
       "        text-align: right;\n",
       "    }\n",
       "</style>\n",
       "<table border=\"1\" class=\"dataframe\">\n",
       "  <thead>\n",
       "    <tr style=\"text-align: right;\">\n",
       "      <th></th>\n",
       "      <th>Base</th>\n",
       "      <th>Prepended</th>\n",
       "      <th>Replaced</th>\n",
       "    </tr>\n",
       "  </thead>\n",
       "  <tbody>\n",
       "    <tr>\n",
       "      <th>0</th>\n",
       "      <td>69.866920</td>\n",
       "      <td>68.726236</td>\n",
       "      <td>65.019011</td>\n",
       "    </tr>\n",
       "    <tr>\n",
       "      <th>1</th>\n",
       "      <td>71.958175</td>\n",
       "      <td>70.057034</td>\n",
       "      <td>65.494297</td>\n",
       "    </tr>\n",
       "    <tr>\n",
       "      <th>2</th>\n",
       "      <td>69.771863</td>\n",
       "      <td>68.441065</td>\n",
       "      <td>64.068441</td>\n",
       "    </tr>\n",
       "    <tr>\n",
       "      <th>3</th>\n",
       "      <td>70.722433</td>\n",
       "      <td>69.486692</td>\n",
       "      <td>66.539924</td>\n",
       "    </tr>\n",
       "    <tr>\n",
       "      <th>4</th>\n",
       "      <td>71.958175</td>\n",
       "      <td>68.536122</td>\n",
       "      <td>65.114068</td>\n",
       "    </tr>\n",
       "  </tbody>\n",
       "</table>\n",
       "</div>"
      ],
      "text/plain": [
       "        Base  Prepended   Replaced\n",
       "0  69.866920  68.726236  65.019011\n",
       "1  71.958175  70.057034  65.494297\n",
       "2  69.771863  68.441065  64.068441\n",
       "3  70.722433  69.486692  66.539924\n",
       "4  71.958175  68.536122  65.114068"
      ]
     },
     "execution_count": 7,
     "metadata": {},
     "output_type": "execute_result"
    }
   ],
   "source": [
    "acc_df = pd.DataFrame({'Base':get_acc(base_dfs), 'Prepended':get_acc(pp_dfs), 'Replaced':get_acc(rp_dfs)})\n",
    "acc_df"
   ]
  },
  {
   "cell_type": "code",
   "execution_count": null,
   "metadata": {},
   "outputs": [],
   "source": []
  },
  {
   "cell_type": "code",
   "execution_count": 8,
   "metadata": {},
   "outputs": [
    {
     "data": {
      "text/plain": [
       "Text(0.5, 1.0, 'OOF Selection Model Accuracy')"
      ]
     },
     "execution_count": 8,
     "metadata": {},
     "output_type": "execute_result"
    },
    {
     "data": {
      "image/png": "[encoded data removed]",
      "text/plain": [
       "<Figure size 504x432 with 1 Axes>"
      ]
     },
     "metadata": {
      "needs_background": "light"
     },
     "output_type": "display_data"
    }
   ],
   "source": [
    "labs = acc_df.columns\n",
    "fig, axs = plt.subplots(nrows=1, ncols=1, figsize=(7,6))\n",
    "ax = axs\n",
    "ax.bar(np.arange(len(labs)), acc_df.mean(), yerr=acc_df.std(), align='center', alpha=0.5, ecolor='black', capsize=30)\n",
    "ax.set_ylabel('Exact Match (%)')\n",
    "ax.set_xticks(np.arange(len(labs)))\n",
    "ax.set_xticklabels(labs, rotation=90)\n",
    "ax.set_title('OOF Selection Model Accuracy')"
   ]
  },
  {
   "cell_type": "markdown",
   "metadata": {},
   "source": [
    "## Sample of Errors"
   ]
  },
  {
   "cell_type": "code",
   "execution_count": 9,
   "metadata": {},
   "outputs": [],
   "source": [
    "def get_error_sample(df):\n",
    "    return df[df['output'] != df['target']].head()"
   ]
  },
  {
   "cell_type": "markdown",
   "metadata": {},
   "source": [
    "## Base"
   ]
  },
  {
   "cell_type": "code",
   "execution_count": 10,
   "metadata": {},
   "outputs": [
    {
     "data": {
      "text/html": [
       "<div>\n",
       "<style scoped>\n",
       "    .dataframe tbody tr th:only-of-type {\n",
       "        vertical-align: middle;\n",
       "    }\n",
       "\n",
       "    .dataframe tbody tr th {\n",
       "        vertical-align: top;\n",
       "    }\n",
       "\n",
       "    .dataframe thead th {\n",
       "        text-align: right;\n",
       "    }\n",
       "</style>\n",
       "<table border=\"1\" class=\"dataframe\">\n",
       "  <thead>\n",
       "    <tr style=\"text-align: right;\">\n",
       "      <th></th>\n",
       "      <th>context</th>\n",
       "      <th>input</th>\n",
       "      <th>target</th>\n",
       "      <th>output</th>\n",
       "    </tr>\n",
       "  </thead>\n",
       "  <tbody>\n",
       "    <tr>\n",
       "      <th>1</th>\n",
       "      <td>[['4'], ['1'], ['1'], ['1'], ['1'], ['5']]</td>\n",
       "      <td>THEM: i would like the hat and the ball and one book . &lt;eos&gt; YOU: i can offer you the hat and one book &lt;eos&gt; THEM: how about i take the hat and the ball and you take all the books ? &lt;eos&gt; YOU: i need the ball and three books &lt;eos&gt; THEM: ok , i agree . &lt;eos&gt; YOU: &lt;selection&gt;</td>\n",
       "      <td>['item0=3', 'item1=0', 'item2=1', 'item0=1', 'item1=1', 'item2=0']</td>\n",
       "      <td>['item0=2', 'item1=0', 'item2=1', 'item0=0', 'item1=1', 'item2=0']</td>\n",
       "    </tr>\n",
       "    <tr>\n",
       "      <th>2</th>\n",
       "      <td>[['3'], ['0'], ['1'], ['4'], ['2'], ['3']]</td>\n",
       "      <td>YOU: i'll take the balls and hat if you want the books &lt;eos&gt; THEM: deal . &lt;eos&gt; YOU: &lt;selection&gt;</td>\n",
       "      <td>Disagree</td>\n",
       "      <td>['item0=0', 'item1=1', 'item2=2', 'item0=3', 'item1=0', 'item2=0']</td>\n",
       "    </tr>\n",
       "    <tr>\n",
       "      <th>12</th>\n",
       "      <td>[['4'], ['0'], ['2'], ['5'], ['1'], ['0']]</td>\n",
       "      <td>YOU: can i have the hats and a book please ? &lt;eos&gt; THEM: you can have the hats , i would need everything else &lt;eos&gt; YOU: i have the hats , but i will need either a book or a ball . or no deal . &lt;eos&gt; THEM: take the hats and a book &lt;eos&gt; YOU: deal . &lt;eos&gt; THEM: &lt;selection&gt;</td>\n",
       "      <td>['item0=1', 'item1=2', 'item2=0', 'item0=3', 'item1=0', 'item2=1']</td>\n",
       "      <td>['item0=1', 'item1=2', 'item2=0', 'item0=1', 'item1=0', 'item2=1']</td>\n",
       "    </tr>\n",
       "    <tr>\n",
       "      <th>21</th>\n",
       "      <td>[['1'], ['1'], ['1'], ['5'], ['4'], ['1']]</td>\n",
       "      <td>YOU: you can have the book if i get the hat . &lt;eos&gt; THEM: its a deal . you can have the balls also . &lt;eos&gt; YOU: cool , deal . &lt;eos&gt; THEM: &lt;selection&gt;</td>\n",
       "      <td>Disagree</td>\n",
       "      <td>['item0=0', 'item1=1', 'item2=4', 'item0=1', 'item1=1', 'item2=0']</td>\n",
       "    </tr>\n",
       "    <tr>\n",
       "      <th>25</th>\n",
       "      <td>[['4'], ['1'], ['2'], ['2'], ['1'], ['2']]</td>\n",
       "      <td>THEM: i'll take the ball and 2 of the books . &lt;eos&gt; YOU: deal &lt;eos&gt; THEM: you sure ? &lt;eos&gt; YOU: pretty sure &lt;eos&gt; THEM: &lt;selection&gt;</td>\n",
       "      <td>Disagree</td>\n",
       "      <td>['item0=2', 'item1=2', 'item2=0', 'item0=2', 'item1=0', 'item2=1']</td>\n",
       "    </tr>\n",
       "  </tbody>\n",
       "</table>\n",
       "</div>"
      ],
      "text/plain": [
       "                                       context  \\\n",
       "1   [['4'], ['1'], ['1'], ['1'], ['1'], ['5']]   \n",
       "2   [['3'], ['0'], ['1'], ['4'], ['2'], ['3']]   \n",
       "12  [['4'], ['0'], ['2'], ['5'], ['1'], ['0']]   \n",
       "21  [['1'], ['1'], ['1'], ['5'], ['4'], ['1']]   \n",
       "25  [['4'], ['1'], ['2'], ['2'], ['1'], ['2']]   \n",
       "\n",
       "                                                                                                                                                                                                                                                                                  input  \\\n",
       "1   THEM: i would like the hat and the ball and one book . <eos> YOU: i can offer you the hat and one book <eos> THEM: how about i take the hat and the ball and you take all the books ? <eos> YOU: i need the ball and three books <eos> THEM: ok , i agree . <eos> YOU: <selection>    \n",
       "2                                                                                                                                                                                     YOU: i'll take the balls and hat if you want the books <eos> THEM: deal . <eos> YOU: <selection>    \n",
       "12    YOU: can i have the hats and a book please ? <eos> THEM: you can have the hats , i would need everything else <eos> YOU: i have the hats , but i will need either a book or a ball . or no deal . <eos> THEM: take the hats and a book <eos> YOU: deal . <eos> THEM: <selection>    \n",
       "21                                                                                                                               YOU: you can have the book if i get the hat . <eos> THEM: its a deal . you can have the balls also . <eos> YOU: cool , deal . <eos> THEM: <selection>    \n",
       "25                                                                                                                                                 THEM: i'll take the ball and 2 of the books . <eos> YOU: deal <eos> THEM: you sure ? <eos> YOU: pretty sure <eos> THEM: <selection>    \n",
       "\n",
       "                                                                target  \\\n",
       "1   ['item0=3', 'item1=0', 'item2=1', 'item0=1', 'item1=1', 'item2=0']   \n",
       "2                                                             Disagree   \n",
       "12  ['item0=1', 'item1=2', 'item2=0', 'item0=3', 'item1=0', 'item2=1']   \n",
       "21                                                            Disagree   \n",
       "25                                                            Disagree   \n",
       "\n",
       "                                                                output  \n",
       "1   ['item0=2', 'item1=0', 'item2=1', 'item0=0', 'item1=1', 'item2=0']  \n",
       "2   ['item0=0', 'item1=1', 'item2=2', 'item0=3', 'item1=0', 'item2=0']  \n",
       "12  ['item0=1', 'item1=2', 'item2=0', 'item0=1', 'item1=0', 'item2=1']  \n",
       "21  ['item0=0', 'item1=1', 'item2=4', 'item0=1', 'item1=1', 'item2=0']  \n",
       "25  ['item0=2', 'item1=2', 'item2=0', 'item0=2', 'item1=0', 'item2=1']  "
      ]
     },
     "execution_count": 10,
     "metadata": {},
     "output_type": "execute_result"
    }
   ],
   "source": [
    "get_error_sample(base_dfs[0])"
   ]
  },
  {
   "cell_type": "markdown",
   "metadata": {},
   "source": [
    "## Prepended"
   ]
  },
  {
   "cell_type": "code",
   "execution_count": 11,
   "metadata": {},
   "outputs": [
    {
     "data": {
      "text/html": [
       "<div>\n",
       "<style scoped>\n",
       "    .dataframe tbody tr th:only-of-type {\n",
       "        vertical-align: middle;\n",
       "    }\n",
       "\n",
       "    .dataframe tbody tr th {\n",
       "        vertical-align: top;\n",
       "    }\n",
       "\n",
       "    .dataframe thead th {\n",
       "        text-align: right;\n",
       "    }\n",
       "</style>\n",
       "<table border=\"1\" class=\"dataframe\">\n",
       "  <thead>\n",
       "    <tr style=\"text-align: right;\">\n",
       "      <th></th>\n",
       "      <th>context</th>\n",
       "      <th>input</th>\n",
       "      <th>target</th>\n",
       "      <th>output</th>\n",
       "    </tr>\n",
       "  </thead>\n",
       "  <tbody>\n",
       "    <tr>\n",
       "      <th>1</th>\n",
       "      <td>[['4'], ['1'], ['1'], ['1'], ['1'], ['5']]</td>\n",
       "      <td>THEM: _need( _books 1 _hats 1 _balls 1 ) - i would like the hat and the ball and one book . &lt;eos&gt; YOU: _offer( _books 1 _hats 1 ) - i can offer you the hat and one book &lt;eos&gt; THEM: _need( _hats 1 _balls 1 ) _offer( _books all ) - how about i take the hat and the ball and you take all the books ? &lt;eos&gt; YOU: _need( _books 3 _balls 1 ) - i need the ball and three books &lt;eos&gt; THEM: _deal - ok , i ...</td>\n",
       "      <td>['item0=3', 'item1=0', 'item2=1', 'item0=1', 'item1=1', 'item2=0']</td>\n",
       "      <td>['item0=3', 'item1=0', 'item2=1', 'item0=0', 'item1=1', 'item2=0']</td>\n",
       "    </tr>\n",
       "    <tr>\n",
       "      <th>2</th>\n",
       "      <td>[['3'], ['0'], ['1'], ['4'], ['2'], ['3']]</td>\n",
       "      <td>YOU: _need( _hats 1 _balls all ) _offer( _books all ) - i'll take the balls and hat if you want the books &lt;eos&gt; THEM: _deal - deal . &lt;eos&gt; YOU: &lt;selection&gt;</td>\n",
       "      <td>Disagree</td>\n",
       "      <td>['item0=0', 'item1=1', 'item2=2', 'item0=3', 'item1=0', 'item2=0']</td>\n",
       "    </tr>\n",
       "    <tr>\n",
       "      <th>3</th>\n",
       "      <td>[['1'], ['4'], ['1'], ['3'], ['3'], ['1']]</td>\n",
       "      <td>YOU: _need( _books 1 _hats 1 ) - hey i really want the book and hat &lt;eos&gt; THEM: _need( _books 1 _balls 2 ) - i need the book and 2 balls &lt;eos&gt; YOU: _need( _hats 1 _balls 1 ) _offer( _books 1 _balls 1 ) - i need the hat and 2 balls . so how about the book and 1 ball for you ? &lt;eos&gt; THEM: _yes - &lt;unk&gt; . deal &lt;eos&gt; YOU: &lt;selection&gt;</td>\n",
       "      <td>['item0=0', 'item1=1', 'item2=2', 'item0=1', 'item1=0', 'item2=1']</td>\n",
       "      <td>['item0=0', 'item1=1', 'item2=1', 'item0=1', 'item1=0', 'item2=2']</td>\n",
       "    </tr>\n",
       "    <tr>\n",
       "      <th>12</th>\n",
       "      <td>[['4'], ['0'], ['2'], ['5'], ['1'], ['0']]</td>\n",
       "      <td>YOU: _need( _books 1 _hats all ) - can i have the hats and a book please ? &lt;eos&gt; THEM: _need( rest ) _offer( _hats all ) - you can have the hats , i would need everything else &lt;eos&gt; YOU: _need( _books 1 _balls 1 ) - i have the hats , but i will need either a book or a ball . or no deal . &lt;eos&gt; THEM: _need( _books 1 _hats all ) - take the hats and a book &lt;eos&gt; YOU: _deal - deal . &lt;eos&gt; THEM: &lt;s...</td>\n",
       "      <td>['item0=1', 'item1=2', 'item2=0', 'item0=3', 'item1=0', 'item2=1']</td>\n",
       "      <td>['item0=1', 'item1=2', 'item2=0', 'item0=3', 'item1=0', 'item2=0']</td>\n",
       "    </tr>\n",
       "    <tr>\n",
       "      <th>16</th>\n",
       "      <td>[['2'], ['0'], ['1'], ['8'], ['2'], ['1']]</td>\n",
       "      <td>YOU: _need( _hats 1 _balls all ) - i would like the hat and the balls . &lt;eos&gt; THEM: _need( _hats 1 ) _offer( _hats 1 ) - how about you just take the hat only . &lt;eos&gt; YOU: _deal - deal . &lt;eos&gt; THEM: &lt;selection&gt;</td>\n",
       "      <td>['item0=0', 'item1=1', 'item2=0', 'item0=2', 'item1=0', 'item2=2']</td>\n",
       "      <td>['item0=0', 'item1=0', 'item2=0', 'item0=2', 'item1=1', 'item2=2']</td>\n",
       "    </tr>\n",
       "  </tbody>\n",
       "</table>\n",
       "</div>"
      ],
      "text/plain": [
       "                                       context  \\\n",
       "1   [['4'], ['1'], ['1'], ['1'], ['1'], ['5']]   \n",
       "2   [['3'], ['0'], ['1'], ['4'], ['2'], ['3']]   \n",
       "3   [['1'], ['4'], ['1'], ['3'], ['3'], ['1']]   \n",
       "12  [['4'], ['0'], ['2'], ['5'], ['1'], ['0']]   \n",
       "16  [['2'], ['0'], ['1'], ['8'], ['2'], ['1']]   \n",
       "\n",
       "                                                                                                                                                                                                                                                                                                                                                                                                              input  \\\n",
       "1   THEM: _need( _books 1 _hats 1 _balls 1 ) - i would like the hat and the ball and one book . <eos> YOU: _offer( _books 1 _hats 1 ) - i can offer you the hat and one book <eos> THEM: _need( _hats 1 _balls 1 ) _offer( _books all ) - how about i take the hat and the ball and you take all the books ? <eos> YOU: _need( _books 3 _balls 1 ) - i need the ball and three books <eos> THEM: _deal - ok , i ...   \n",
       "2                                                                                                                                                                                                                                                      YOU: _need( _hats 1 _balls all ) _offer( _books all ) - i'll take the balls and hat if you want the books <eos> THEM: _deal - deal . <eos> YOU: <selection>    \n",
       "3                                                                       YOU: _need( _books 1 _hats 1 ) - hey i really want the book and hat <eos> THEM: _need( _books 1 _balls 2 ) - i need the book and 2 balls <eos> YOU: _need( _hats 1 _balls 1 ) _offer( _books 1 _balls 1 ) - i need the hat and 2 balls . so how about the book and 1 ball for you ? <eos> THEM: _yes - <unk> . deal <eos> YOU: <selection>    \n",
       "12  YOU: _need( _books 1 _hats all ) - can i have the hats and a book please ? <eos> THEM: _need( rest ) _offer( _hats all ) - you can have the hats , i would need everything else <eos> YOU: _need( _books 1 _balls 1 ) - i have the hats , but i will need either a book or a ball . or no deal . <eos> THEM: _need( _books 1 _hats all ) - take the hats and a book <eos> YOU: _deal - deal . <eos> THEM: <s...   \n",
       "16                                                                                                                                                                                               YOU: _need( _hats 1 _balls all ) - i would like the hat and the balls . <eos> THEM: _need( _hats 1 ) _offer( _hats 1 ) - how about you just take the hat only . <eos> YOU: _deal - deal . <eos> THEM: <selection>    \n",
       "\n",
       "                                                                target  \\\n",
       "1   ['item0=3', 'item1=0', 'item2=1', 'item0=1', 'item1=1', 'item2=0']   \n",
       "2                                                             Disagree   \n",
       "3   ['item0=0', 'item1=1', 'item2=2', 'item0=1', 'item1=0', 'item2=1']   \n",
       "12  ['item0=1', 'item1=2', 'item2=0', 'item0=3', 'item1=0', 'item2=1']   \n",
       "16  ['item0=0', 'item1=1', 'item2=0', 'item0=2', 'item1=0', 'item2=2']   \n",
       "\n",
       "                                                                output  \n",
       "1   ['item0=3', 'item1=0', 'item2=1', 'item0=0', 'item1=1', 'item2=0']  \n",
       "2   ['item0=0', 'item1=1', 'item2=2', 'item0=3', 'item1=0', 'item2=0']  \n",
       "3   ['item0=0', 'item1=1', 'item2=1', 'item0=1', 'item1=0', 'item2=2']  \n",
       "12  ['item0=1', 'item1=2', 'item2=0', 'item0=3', 'item1=0', 'item2=0']  \n",
       "16  ['item0=0', 'item1=0', 'item2=0', 'item0=2', 'item1=1', 'item2=2']  "
      ]
     },
     "execution_count": 11,
     "metadata": {},
     "output_type": "execute_result"
    }
   ],
   "source": [
    "get_error_sample(pp_dfs[0])"
   ]
  },
  {
   "cell_type": "markdown",
   "metadata": {},
   "source": [
    "## Replaced"
   ]
  },
  {
   "cell_type": "code",
   "execution_count": 12,
   "metadata": {},
   "outputs": [
    {
     "data": {
      "text/html": [
       "<div>\n",
       "<style scoped>\n",
       "    .dataframe tbody tr th:only-of-type {\n",
       "        vertical-align: middle;\n",
       "    }\n",
       "\n",
       "    .dataframe tbody tr th {\n",
       "        vertical-align: top;\n",
       "    }\n",
       "\n",
       "    .dataframe thead th {\n",
       "        text-align: right;\n",
       "    }\n",
       "</style>\n",
       "<table border=\"1\" class=\"dataframe\">\n",
       "  <thead>\n",
       "    <tr style=\"text-align: right;\">\n",
       "      <th></th>\n",
       "      <th>context</th>\n",
       "      <th>input</th>\n",
       "      <th>target</th>\n",
       "      <th>output</th>\n",
       "    </tr>\n",
       "  </thead>\n",
       "  <tbody>\n",
       "    <tr>\n",
       "      <th>3</th>\n",
       "      <td>[['2'], ['3'], ['2'], ['1'], ['1'], ['2']]</td>\n",
       "      <td>YOU: _offer( _books 1 _hats 2 ) &lt;eos&gt; THEM: _deal &lt;eos&gt; YOU: &lt;selection&gt;</td>\n",
       "      <td>Disagree</td>\n",
       "      <td>['item0=1', 'item1=0', 'item2=1', 'item0=1', 'item1=2', 'item2=0']</td>\n",
       "    </tr>\n",
       "    <tr>\n",
       "      <th>4</th>\n",
       "      <td>[['1'], ['2'], ['3'], ['1'], ['1'], ['5']]</td>\n",
       "      <td>THEM: _need( _balls 1 ) &lt;eos&gt; YOU: _need( _balls 1 ) _offer( _books 1 _hats 2 ) &lt;eos&gt; THEM: &lt;selection&gt;</td>\n",
       "      <td>Disagree</td>\n",
       "      <td>['item0=0', 'item1=3', 'item2=1', 'item0=1', 'item1=0', 'item2=0']</td>\n",
       "    </tr>\n",
       "    <tr>\n",
       "      <th>6</th>\n",
       "      <td>[['2'], ['1'], ['2'], ['0'], ['2'], ['4']]</td>\n",
       "      <td>THEM: _need( _books all ) &lt;eos&gt; YOU: _need( _balls 0 ) _offer( _books all _hats all ) &lt;eos&gt; THEM: _deal &lt;eos&gt; YOU: &lt;selection&gt;</td>\n",
       "      <td>['item0=0', 'item1=0', 'item2=2', 'item0=2', 'item1=2', 'item2=0']</td>\n",
       "      <td>['item0=0', 'item1=2', 'item2=2', 'item0=2', 'item1=0', 'item2=0']</td>\n",
       "    </tr>\n",
       "    <tr>\n",
       "      <th>11</th>\n",
       "      <td>[['3'], ['0'], ['1'], ['4'], ['2'], ['3']]</td>\n",
       "      <td>YOU: _need( _hats 1 _balls all ) _offer( _books all ) &lt;eos&gt; THEM: _deal &lt;eos&gt; YOU: &lt;selection&gt;</td>\n",
       "      <td>Disagree</td>\n",
       "      <td>['item0=0', 'item1=1', 'item2=2', 'item0=3', 'item1=0', 'item2=0']</td>\n",
       "    </tr>\n",
       "    <tr>\n",
       "      <th>19</th>\n",
       "      <td>[['1'], ['2'], ['1'], ['2'], ['3'], ['2']]</td>\n",
       "      <td>THEM: _need( _books 1 _hats 1 ) _offer( _balls 3 ) &lt;eos&gt; YOU: _deal &lt;eos&gt; THEM: _deal &lt;eos&gt; YOU: &lt;selection&gt;</td>\n",
       "      <td>Disagree</td>\n",
       "      <td>['item0=0', 'item1=0', 'item2=3', 'item0=1', 'item1=1', 'item2=0']</td>\n",
       "    </tr>\n",
       "  </tbody>\n",
       "</table>\n",
       "</div>"
      ],
      "text/plain": [
       "                                       context  \\\n",
       "3   [['2'], ['3'], ['2'], ['1'], ['1'], ['2']]   \n",
       "4   [['1'], ['2'], ['3'], ['1'], ['1'], ['5']]   \n",
       "6   [['2'], ['1'], ['2'], ['0'], ['2'], ['4']]   \n",
       "11  [['3'], ['0'], ['1'], ['4'], ['2'], ['3']]   \n",
       "19  [['1'], ['2'], ['1'], ['2'], ['3'], ['2']]   \n",
       "\n",
       "                                                                                                                              input  \\\n",
       "3                                                         YOU: _offer( _books 1 _hats 2 ) <eos> THEM: _deal <eos> YOU: <selection>    \n",
       "4                          THEM: _need( _balls 1 ) <eos> YOU: _need( _balls 1 ) _offer( _books 1 _hats 2 ) <eos> THEM: <selection>    \n",
       "6   THEM: _need( _books all ) <eos> YOU: _need( _balls 0 ) _offer( _books all _hats all ) <eos> THEM: _deal <eos> YOU: <selection>    \n",
       "11                                  YOU: _need( _hats 1 _balls all ) _offer( _books all ) <eos> THEM: _deal <eos> YOU: <selection>    \n",
       "19                    THEM: _need( _books 1 _hats 1 ) _offer( _balls 3 ) <eos> YOU: _deal <eos> THEM: _deal <eos> YOU: <selection>    \n",
       "\n",
       "                                                                target  \\\n",
       "3                                                             Disagree   \n",
       "4                                                             Disagree   \n",
       "6   ['item0=0', 'item1=0', 'item2=2', 'item0=2', 'item1=2', 'item2=0']   \n",
       "11                                                            Disagree   \n",
       "19                                                            Disagree   \n",
       "\n",
       "                                                                output  \n",
       "3   ['item0=1', 'item1=0', 'item2=1', 'item0=1', 'item1=2', 'item2=0']  \n",
       "4   ['item0=0', 'item1=3', 'item2=1', 'item0=1', 'item1=0', 'item2=0']  \n",
       "6   ['item0=0', 'item1=2', 'item2=2', 'item0=2', 'item1=0', 'item2=0']  \n",
       "11  ['item0=0', 'item1=1', 'item2=2', 'item0=3', 'item1=0', 'item2=0']  \n",
       "19  ['item0=0', 'item1=0', 'item2=3', 'item0=1', 'item1=1', 'item2=0']  "
      ]
     },
     "execution_count": 12,
     "metadata": {},
     "output_type": "execute_result"
    }
   ],
   "source": [
    "get_error_sample(rp_dfs[0])"
   ]
  },
  {
   "cell_type": "code",
   "execution_count": null,
   "metadata": {},
   "outputs": [],
   "source": []
  }
 ],
 "metadata": {
  "kernelspec": {
   "display_name": "Python 3.7.9 64-bit ('py379': conda)",
   "language": "python",
   "name": "python379jvsc74a57bd08d74baf78b48d53b51cb4f6c1d722dcf0abe0e2d9293d1c4b5902608f32e4271"
  },
  "language_info": {
   "codemirror_mode": {
    "name": "ipython",
    "version": 3
   },
   "file_extension": ".py",
   "mimetype": "text/x-python",
   "name": "python",
   "nbconvert_exporter": "python",
   "pygments_lexer": "ipython3",
   "version": "3.7.9"
  },
  "varInspector": {
   "cols": {
    "lenName": 16,
    "lenType": 16,
    "lenVar": 40
   },
   "kernels_config": {
    "python": {
     "delete_cmd_postfix": "",
     "delete_cmd_prefix": "del ",
     "library": "var_list.py",
     "varRefreshCmd": "print(var_dic_list())"
    },
    "r": {
     "delete_cmd_postfix": ") ",
     "delete_cmd_prefix": "rm(",
     "library": "var_list.r",
     "varRefreshCmd": "cat(var_dic_list()) "
    }
   },
   "types_to_exclude": [
    "module",
    "function",
    "builtin_function_or_method",
    "instance",
    "_Feature"
   ],
   "window_display": false
  }
 },
 "nbformat": 4,
 "nbformat_minor": 4
}
