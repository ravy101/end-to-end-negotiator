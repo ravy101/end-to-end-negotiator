{
 "cells": [
  {
   "cell_type": "code",
   "execution_count": 72,
   "id": "14da7e7a",
   "metadata": {},
   "outputs": [],
   "source": [
    "import pandas as pd\n",
    "import numpy as np\n",
    "import matplotlib.pyplot as plt\n",
    "import os"
   ]
  },
  {
   "cell_type": "code",
   "execution_count": 73,
   "id": "d4dc9dfb",
   "metadata": {},
   "outputs": [],
   "source": [
    "#suffixes = ['base', 'rp', 'pp']\n",
    "types = {\"base\":\"Natural Language\", \"rp\":\"Template: Replace\", \"pp\":\"Template: Prepended\"}"
   ]
  },
  {
   "cell_type": "code",
   "execution_count": 74,
   "id": "3b17d13f",
   "metadata": {},
   "outputs": [],
   "source": [
    "rows= list()\n",
    "for suff in types.keys():\n",
    "    for i in range(1,6):\n",
    "        file_name = f\"SP_{suff}{i}.txt\"\n",
    "        try:\n",
    "            with open(file_name, \"r\") as file:\n",
    "                row = dict()\n",
    "                row['type'] = types[suff]\n",
    "                res =file.readlines()[-1]\n",
    "                res = res.split(' ')[1:]\n",
    "                for val in res:\n",
    "                    split_val = val.split('=')\n",
    "                    row[split_val[0]] = float(split_val[1].strip('%s'))\n",
    "                rows.append(row)\n",
    "                    \n",
    "        except:\n",
    "            pass\n",
    "df = pd.DataFrame(rows)"
   ]
  },
  {
   "cell_type": "code",
   "execution_count": 75,
   "id": "73b675fa",
   "metadata": {},
   "outputs": [],
   "source": [
    "means = df.groupby('type').mean()\n",
    "stds = df.groupby('type').std()"
   ]
  },
  {
   "cell_type": "code",
   "execution_count": 76,
   "id": "85918a37",
   "metadata": {},
   "outputs": [],
   "source": [
    "cols = ['agree', 'comb_rew']"
   ]
  },
  {
   "cell_type": "code",
   "execution_count": 83,
   "id": "03d2102d",
   "metadata": {},
   "outputs": [
    {
     "data": {
      "image/png": "[encoded data removed]",
      "text/plain": [
       "<Figure size 1368x360 with 3 Axes>"
      ]
     },
     "metadata": {
      "needs_background": "light"
     },
     "output_type": "display_data"
    }
   ],
   "source": [
    "labs = means.index\n",
    "\n",
    "fig, axs = plt.subplots(nrows=1, ncols=3, figsize=(19,5))\n",
    "col = 'comb_rew'\n",
    "val = means[col]\n",
    "err = stds[col]\n",
    "ax = axs[0]\n",
    "ax.bar(np.arange(len(labs)), val, yerr=err, align='center', alpha=0.5, ecolor='black', capsize=30)\n",
    "ax.set_ylabel('Combined Reward')\n",
    "ax.set_xticks(np.arange(len(labs)))\n",
    "ax.set_xticklabels(labs, rotation=90)\n",
    "ax.set_title('Combined Reward')\n",
    "ax = axs[1]\n",
    "col = 'agree'\n",
    "val = means[col]\n",
    "err = stds[col]\n",
    "ax.bar(np.arange(len(labs)), val, yerr=err, align='center', alpha=0.5, ecolor='black', capsize=30)\n",
    "ax.set_ylabel('Agree')\n",
    "ax.set_xticks(np.arange(len(labs)))\n",
    "ax.set_xticklabels(labs, rotation=90)\n",
    "ax.set_title('Agreement')\n",
    "ax = axs[2]\n",
    "col = 'advantage'\n",
    "val = means[col]\n",
    "err = stds[col]\n",
    "ax.bar(np.arange(len(labs)), val, yerr=err, align='center', alpha=0.5, ecolor='black', capsize=30)\n",
    "ax.set_ylabel('Alice Advantage')\n",
    "ax.set_xticks(np.arange(len(labs)))\n",
    "ax.set_xticklabels(labs, rotation=90)\n",
    "ax.set_title('Alice Advantage')\n",
    "plt.show()\n"
   ]
  },
  {
   "cell_type": "code",
   "execution_count": 81,
   "id": "56b9ecb9",
   "metadata": {},
   "outputs": [
    {
     "data": {
      "text/html": [
       "<div>\n",
       "<style scoped>\n",
       "    .dataframe tbody tr th:only-of-type {\n",
       "        vertical-align: middle;\n",
       "    }\n",
       "\n",
       "    .dataframe tbody tr th {\n",
       "        vertical-align: top;\n",
       "    }\n",
       "\n",
       "    .dataframe thead th {\n",
       "        text-align: right;\n",
       "    }\n",
       "</style>\n",
       "<table border=\"1\" class=\"dataframe\">\n",
       "  <thead>\n",
       "    <tr style=\"text-align: right;\">\n",
       "      <th></th>\n",
       "      <th>dialog_len</th>\n",
       "      <th>sent_len</th>\n",
       "      <th>agree</th>\n",
       "      <th>moving_agree</th>\n",
       "      <th>advantage</th>\n",
       "      <th>moving_advantage</th>\n",
       "      <th>time</th>\n",
       "      <th>comb_rew</th>\n",
       "      <th>agree_comb_rew</th>\n",
       "      <th>pareto_opt</th>\n",
       "      <th>alice_rew</th>\n",
       "      <th>alice_moving_rew</th>\n",
       "      <th>agree_alice_rew</th>\n",
       "      <th>alice_sel</th>\n",
       "      <th>alice_unique</th>\n",
       "      <th>bob_rew</th>\n",
       "      <th>bob_moving_rew</th>\n",
       "      <th>agree_bob_rew</th>\n",
       "      <th>bob_sel</th>\n",
       "      <th>bob_unique</th>\n",
       "    </tr>\n",
       "    <tr>\n",
       "      <th>type</th>\n",
       "      <th></th>\n",
       "      <th></th>\n",
       "      <th></th>\n",
       "      <th></th>\n",
       "      <th></th>\n",
       "      <th></th>\n",
       "      <th></th>\n",
       "      <th></th>\n",
       "      <th></th>\n",
       "      <th></th>\n",
       "      <th></th>\n",
       "      <th></th>\n",
       "      <th></th>\n",
       "      <th></th>\n",
       "      <th></th>\n",
       "      <th></th>\n",
       "      <th></th>\n",
       "      <th></th>\n",
       "      <th></th>\n",
       "      <th></th>\n",
       "    </tr>\n",
       "  </thead>\n",
       "  <tbody>\n",
       "    <tr>\n",
       "      <th>Natural Language</th>\n",
       "      <td>3.792</td>\n",
       "      <td>5.814</td>\n",
       "      <td>97.330</td>\n",
       "      <td>96.6</td>\n",
       "      <td>6.938894e-19</td>\n",
       "      <td>-0.186</td>\n",
       "      <td>0.0228</td>\n",
       "      <td>11.506</td>\n",
       "      <td>11.820</td>\n",
       "      <td>47.452</td>\n",
       "      <td>5.752</td>\n",
       "      <td>5.716</td>\n",
       "      <td>5.910</td>\n",
       "      <td>49.906</td>\n",
       "      <td>1883.4</td>\n",
       "      <td>5.754</td>\n",
       "      <td>5.780</td>\n",
       "      <td>5.912</td>\n",
       "      <td>50.096</td>\n",
       "      <td>1863.8</td>\n",
       "    </tr>\n",
       "    <tr>\n",
       "      <th>Template: Prepended</th>\n",
       "      <td>3.894</td>\n",
       "      <td>9.772</td>\n",
       "      <td>96.552</td>\n",
       "      <td>96.4</td>\n",
       "      <td>1.200000e-02</td>\n",
       "      <td>0.022</td>\n",
       "      <td>0.0306</td>\n",
       "      <td>12.596</td>\n",
       "      <td>13.046</td>\n",
       "      <td>58.950</td>\n",
       "      <td>6.302</td>\n",
       "      <td>6.494</td>\n",
       "      <td>6.528</td>\n",
       "      <td>50.082</td>\n",
       "      <td>1893.4</td>\n",
       "      <td>6.294</td>\n",
       "      <td>6.400</td>\n",
       "      <td>6.516</td>\n",
       "      <td>49.922</td>\n",
       "      <td>1906.0</td>\n",
       "    </tr>\n",
       "    <tr>\n",
       "      <th>Template: Replace</th>\n",
       "      <td>5.172</td>\n",
       "      <td>4.968</td>\n",
       "      <td>87.034</td>\n",
       "      <td>87.4</td>\n",
       "      <td>2.000000e-03</td>\n",
       "      <td>0.146</td>\n",
       "      <td>0.0296</td>\n",
       "      <td>8.752</td>\n",
       "      <td>10.056</td>\n",
       "      <td>26.598</td>\n",
       "      <td>4.376</td>\n",
       "      <td>4.360</td>\n",
       "      <td>5.028</td>\n",
       "      <td>50.004</td>\n",
       "      <td>412.2</td>\n",
       "      <td>4.372</td>\n",
       "      <td>4.304</td>\n",
       "      <td>5.026</td>\n",
       "      <td>49.996</td>\n",
       "      <td>425.8</td>\n",
       "    </tr>\n",
       "  </tbody>\n",
       "</table>\n",
       "</div>"
      ],
      "text/plain": [
       "                     dialog_len  sent_len   agree  moving_agree     advantage  \\\n",
       "type                                                                            \n",
       "Natural Language          3.792     5.814  97.330          96.6  6.938894e-19   \n",
       "Template: Prepended       3.894     9.772  96.552          96.4  1.200000e-02   \n",
       "Template: Replace         5.172     4.968  87.034          87.4  2.000000e-03   \n",
       "\n",
       "                     moving_advantage    time  comb_rew  agree_comb_rew  \\\n",
       "type                                                                      \n",
       "Natural Language               -0.186  0.0228    11.506          11.820   \n",
       "Template: Prepended             0.022  0.0306    12.596          13.046   \n",
       "Template: Replace               0.146  0.0296     8.752          10.056   \n",
       "\n",
       "                     pareto_opt  alice_rew  alice_moving_rew  agree_alice_rew  \\\n",
       "type                                                                            \n",
       "Natural Language         47.452      5.752             5.716            5.910   \n",
       "Template: Prepended      58.950      6.302             6.494            6.528   \n",
       "Template: Replace        26.598      4.376             4.360            5.028   \n",
       "\n",
       "                     alice_sel  alice_unique  bob_rew  bob_moving_rew  \\\n",
       "type                                                                    \n",
       "Natural Language        49.906        1883.4    5.754           5.780   \n",
       "Template: Prepended     50.082        1893.4    6.294           6.400   \n",
       "Template: Replace       50.004         412.2    4.372           4.304   \n",
       "\n",
       "                     agree_bob_rew  bob_sel  bob_unique  \n",
       "type                                                     \n",
       "Natural Language             5.912   50.096      1863.8  \n",
       "Template: Prepended          6.516   49.922      1906.0  \n",
       "Template: Replace            5.026   49.996       425.8  "
      ]
     },
     "execution_count": 81,
     "metadata": {},
     "output_type": "execute_result"
    }
   ],
   "source": [
    "means"
   ]
  },
  {
   "cell_type": "code",
   "execution_count": null,
   "id": "a7716587",
   "metadata": {},
   "outputs": [],
   "source": []
  }
 ],
 "metadata": {
  "kernelspec": {
   "display_name": "Python 3.7.9 64-bit ('py379': conda)",
   "language": "python",
   "name": "python379jvsc74a57bd08d74baf78b48d53b51cb4f6c1d722dcf0abe0e2d9293d1c4b5902608f32e4271"
  },
  "language_info": {
   "codemirror_mode": {
    "name": "ipython",
    "version": 3
   },
   "file_extension": ".py",
   "mimetype": "text/x-python",
   "name": "python",
   "nbconvert_exporter": "python",
   "pygments_lexer": "ipython3",
   "version": "3.7.9"
  },
  "varInspector": {
   "cols": {
    "lenName": 16,
    "lenType": 16,
    "lenVar": 40
   },
   "kernels_config": {
    "python": {
     "delete_cmd_postfix": "",
     "delete_cmd_prefix": "del ",
     "library": "var_list.py",
     "varRefreshCmd": "print(var_dic_list())"
    },
    "r": {
     "delete_cmd_postfix": ") ",
     "delete_cmd_prefix": "rm(",
     "library": "var_list.r",
     "varRefreshCmd": "cat(var_dic_list()) "
    }
   },
   "types_to_exclude": [
    "module",
    "function",
    "builtin_function_or_method",
    "instance",
    "_Feature"
   ],
   "window_display": false
  }
 },
 "nbformat": 4,
 "nbformat_minor": 5
}
