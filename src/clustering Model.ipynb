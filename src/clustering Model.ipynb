{
 "cells": [
  {
   "cell_type": "code",
   "execution_count": 42,
   "metadata": {},
   "outputs": [],
   "source": [
    "import argparse\n",
    "import pandas as pd\n",
    "\n",
    "import numpy as np\n",
    "import torch\n",
    "from torch.autograd import Variable\n",
    "\n",
    "import data\n",
    "import utils\n",
    "import models\n",
    "from domain import get_domain\n",
    "from engines.engine import Criterion\n"
   ]
  },
  {
   "cell_type": "code",
   "execution_count": 100,
   "metadata": {},
   "outputs": [
    {
     "data": {
      "text/plain": [
       "_StoreTrueAction(option_strings=['--sep_sel'], dest='sep_sel', nargs=0, const=True, default=False, type=None, choices=None, help='use separate classifiers for selection', metavar=None)"
      ]
     },
     "execution_count": 100,
     "metadata": {},
     "output_type": "execute_result"
    }
   ],
   "source": [
    "parser = argparse.ArgumentParser(description='testing script')\n",
    "parser.add_argument('--data', type=str, default='data/negotiate',\n",
    "    help='location of the data corpus')\n",
    "parser.add_argument('--nembed_word', type=int, default=256,\n",
    "    help='size of word embeddings')\n",
    "parser.add_argument('--nembed_ctx', type=int, default=64,\n",
    "    help='size of context embeddings')\n",
    "parser.add_argument('--nhid_lang', type=int, default=256,\n",
    "    help='size of the hidden state for the language module')\n",
    "parser.add_argument('--nhid_cluster', type=int, default=256,\n",
    "    help='size of the hidden state for the language module')\n",
    "parser.add_argument('--nhid_ctx', type=int, default=64,\n",
    "    help='size of the hidden state for the context module')\n",
    "parser.add_argument('--nhid_strat', type=int, default=64,\n",
    "    help='size of the hidden state for the strategy module')\n",
    "parser.add_argument('--nhid_attn', type=int, default=64,\n",
    "    help='size of the hidden state for the attention module')\n",
    "parser.add_argument('--nhid_sel', type=int, default=64,\n",
    "    help='size of the hidden state for the selection module')\n",
    "parser.add_argument('--lr', type=float, default=20.0,\n",
    "    help='initial learning rate')\n",
    "parser.add_argument('--min_lr', type=float, default=1e-5,\n",
    "    help='min threshold for learning rate annealing')\n",
    "parser.add_argument('--decay_rate', type=float,  default=9.0,\n",
    "    help='decrease learning rate by this factor')\n",
    "parser.add_argument('--decay_every', type=int,  default=1,\n",
    "    help='decrease learning rate after decay_every epochs')\n",
    "parser.add_argument('--momentum', type=float, default=0.0,\n",
    "    help='momentum for sgd')\n",
    "parser.add_argument('--clip', type=float, default=0.2,\n",
    "    help='gradient clipping')\n",
    "parser.add_argument('--dropout', type=float, default=0.5,\n",
    "    help='dropout rate in embedding layer')\n",
    "parser.add_argument('--init_range', type=float, default=0.1,\n",
    "    help='initialization range')\n",
    "parser.add_argument('--max_epoch', type=int, default=30,\n",
    "    help='max number of epochs')\n",
    "parser.add_argument('--num_clusters', type=int, default=50,\n",
    "    help='number of clusters')\n",
    "parser.add_argument('--bsz', type=int, default=25,\n",
    "    help='batch size')\n",
    "parser.add_argument('--unk_threshold', type=int, default=20,\n",
    "    help='minimum word frequency to be in dictionary')\n",
    "parser.add_argument('--temperature', type=float, default=0.1,\n",
    "    help='temperature')\n",
    "parser.add_argument('--partner_ctx_weight', type=float, default=0.0,\n",
    "    help='selection weight')\n",
    "parser.add_argument('--sel_weight', type=float, default=0.6,\n",
    "    help='selection weight')\n",
    "parser.add_argument('--seed', type=int, default=1,\n",
    "    help='random seed')\n",
    "parser.add_argument('--cuda', action='store_true', default=False,\n",
    "    help='use CUDA')\n",
    "parser.add_argument('--model_file', type=str,  default='',\n",
    "    help='path to save the final model')\n",
    "parser.add_argument('--prediction_model_file', type=str,  default='',\n",
    "    help='path to save the prediction model')\n",
    "parser.add_argument('--selection_model_file', type=str,  default='',\n",
    "    help='path to save the selection model')\n",
    "parser.add_argument('--cluster_model_file', type=str,  default='',\n",
    "    help='path to save the cluster model')\n",
    "parser.add_argument('--lang_model_file', type=str,  default='',\n",
    "    help='path to save the language model')\n",
    "parser.add_argument('--visual', action='store_true', default=False,\n",
    "    help='plot graphs')\n",
    "parser.add_argument('--skip_values', action='store_true', default=False,\n",
    "    help='skip values in ctx encoder')\n",
    "parser.add_argument('--model_type', type=str, default='rnn_model',\n",
    "    help='model type', choices=models.get_model_names())\n",
    "parser.add_argument('--domain', type=str, default='object_division',\n",
    "    help='domain for the dialogue')\n",
    "parser.add_argument('--clustering', action='store_true', default=False,\n",
    "    help='use clustering')\n",
    "parser.add_argument('--sep_sel', action='store_true', default=False,\n",
    "    help='use separate classifiers for selection')\n",
    "\n"
   ]
  },
  {
   "cell_type": "code",
   "execution_count": 101,
   "metadata": {},
   "outputs": [],
   "source": [
    "#'--cuda',\n",
    "args = parser.parse_args([ '--cuda', \n",
    "'--selection_model_file=selection_model.th',\n",
    "'--lang_model_file=clustering_language_model.th',\n",
    "'--model_file=full_model.th',\n",
    "'--bsz=1', \n",
    "'--domain=object_division', \n",
    "'--sep_sel', \n",
    "'--model_type=latent_clustering_prediction_model', \n",
    "'--lr=0.001', \"--nembed_ctx=64\",  '--selection_model_file=selection_model.th'])"
   ]
  },
  {
   "cell_type": "code",
   "execution_count": null,
   "metadata": {},
   "outputs": [],
   "source": []
  },
  {
   "cell_type": "code",
   "execution_count": 102,
   "metadata": {},
   "outputs": [
    {
     "name": "stdout",
     "output_type": "stream",
     "text": [
      "dataset data/negotiate/train.txt, total 687919, unks 8718, ratio 1.27%\n",
      "sample input i2w:  ['2', '1', '1', '6', '2', '1']\n",
      "sample words:  ['YOU:', \"i'd\", 'like', 'the', 'hat', 'and', '1', 'ball', '.', '<eos>', 'THEM:', 'i', 'need', 'both', 'balls', '<eos>', 'YOU:', 'ok', '.', '<eos>', 'THEM:', '<selection>']\n",
      "Sample output:  ['item0=2', 'item1=1', 'item2=0', 'item0=0', 'item1=0', 'item2=2']\n",
      "dataset data/negotiate/val.txt, total 74653, unks 914, ratio 1.22%\n",
      "sample input i2w:  ['1', '10', '3', '0', '1', '0']\n",
      "sample words:  ['YOU:', 'i', 'need', 'the', 'book', 'and', 'two', 'hats', '<eos>', 'THEM:', 'i', 'get', 'the', 'ball', 'and', '1', 'hat', '<eos>', 'YOU:', 'actually', 'i', 'just', 'need', 'the', 'book', ',', 'so', 'you', 'can', 'have', 'the', 'rest', 'of', 'it', '<eos>', 'THEM:', 'you', 'get', 'book', 'since', 'its', 'worth', '10', 'to', 'you', 'i', 'get', 'the', 'rest', '.', 'deal', '<eos>', 'YOU:', '<selection>']\n",
      "Sample output:  ['item0=1', 'item1=0', 'item2=0', 'item0=0', 'item1=3', 'item2=1']\n",
      "dataset data/negotiate/test.txt, total 70262, unks 847, ratio 1.21%\n",
      "sample input i2w:  ['2', '4', '1', '2', '2', '0']\n",
      "sample words:  ['THEM:', 'i', 'want', 'the', 'balls', 'and', 'a', 'book', '<eos>', 'YOU:', 'i', 'can', 'not', 'make', 'that', 'deal', '.', 'you', 'can', 'have', 'the', 'balls', 'but', ',', 'i', 'need', 'the', 'books', 'and', 'the', 'hat', '<eos>', 'THEM:', 'ok', 'deal', '<eos>', 'YOU:', 'okay', 'great', '.', 'thank', 'you', '!', '<eos>', 'THEM:', '<selection>']\n",
      "Sample output:  ['item0=2', 'item1=1', 'item2=0', 'item0=0', 'item1=0', 'item2=2']\n"
     ]
    }
   ],
   "source": [
    "device_id = utils.use_cuda(args.cuda)\n",
    "utils.set_seed(args.seed)\n",
    "\n",
    "domain = get_domain(args.domain)\n",
    "model_ty = models.get_model_type(args.model_type)\n",
    "\n",
    "corpus = model_ty.corpus_ty(domain, args.data, freq_cutoff=args.unk_threshold,\n",
    "        verbose=True, sep_sel=args.sep_sel)\n",
    "\n",
    "\n",
    "\n",
    "\n"
   ]
  },
  {
   "cell_type": "markdown",
   "metadata": {},
   "source": [
    "# make a new model"
   ]
  },
  {
   "cell_type": "code",
   "execution_count": 103,
   "metadata": {},
   "outputs": [],
   "source": [
    "model = model_ty(corpus.word_dict, corpus.item_dict_old, corpus.context_dict, corpus.count_dict, args)"
   ]
  },
  {
   "cell_type": "markdown",
   "metadata": {},
   "source": [
    "# load a model"
   ]
  },
  {
   "cell_type": "code",
   "execution_count": 104,
   "metadata": {},
   "outputs": [],
   "source": [
    "model = utils.load_model(args.model_file)"
   ]
  },
  {
   "cell_type": "code",
   "execution_count": 47,
   "metadata": {},
   "outputs": [],
   "source": [
    "engine = model_ty.engine_ty(model, args, verbose=True)\n",
    "testset, testset_stats = corpus.test_dataset(args.bsz)\n",
    "batch=testset[0]"
   ]
  },
  {
   "cell_type": "code",
   "execution_count": 88,
   "metadata": {},
   "outputs": [],
   "source": [
    "ctx, _, inpts, lens, tgts, sel_tgt, rev_idxs, hid_idxs, cnt = testset[2]\n",
    "ctx = Variable(ctx)\n",
    "cnt = Variable(cnt)\n",
    "inpts = [Variable(inpt) for inpt in inpts]\n",
    "tgts = [Variable(tgt) for tgt in tgts]\n",
    "rev_idxs = [Variable(idx) for idx in rev_idxs]\n",
    "hid_idxs = [Variable(idx) for idx in hid_idxs]\n",
    "sel_tgt_probs = engine._make_sel_tgt_probs(inpts, lens, rev_idxs, hid_idxs, ctx)\n",
    "sel_tgt = Variable(sel_tgt)\n",
    "\n",
    "inpts, tgts, sel_tgt_probs, lens, rev_idxs, hid_idxs = engine._append_pad(\n",
    "    inpts, tgts, sel_tgt_probs, lens, rev_idxs, hid_idxs)\n",
    "\n",
    "#outs, sel_outs, z_probs, z_tgts, stats = engine.model(\n",
    "#    inpts, tgts, sel_tgt_probs, hid_idxs, ctx, cnt)\n",
    "sample_in = [[inpts[0:2]], [tgts[0:2]], [sel_tgt_probs[0:2]], [hid_idxs[0:2]], ctx, cnt]"
   ]
  },
  {
   "cell_type": "code",
   "execution_count": 105,
   "metadata": {},
   "outputs": [
    {
     "name": "stdout",
     "output_type": "stream",
     "text": [
      "================================================================================\n",
      "Layer (type:depth-idx)                                  Param #\n",
      "================================================================================\n",
      "LatentClusteringPredictionModel                         --\n",
      "├─LatentClusteringLanguageModel: 1-1                    --\n",
      "│    └─LatentClusteringModel: 2-1                       --\n",
      "│    │    └─MlpContextEncoder: 3-1                      13,760\n",
      "│    │    └─Embedding: 3-2                              118,528\n",
      "│    │    └─Sequential: 3-3                             65,792\n",
      "│    │    └─Linear: 3-4                                 65,792\n",
      "│    │    └─GRU: 3-5                                    394,752\n",
      "│    │    └─Sequential: 3-6                             147,712\n",
      "│    │    └─GRU: 3-7                                    394,752\n",
      "│    │    └─GRUCell: 3-8                                394,752\n",
      "│    │    └─ShardedLatentBottleneckModule: 3-9          718,200\n",
      "│    │    └─GRUCell: 3-10                               394,752\n",
      "│    │    └─Dropout: 3-11                               --\n",
      "│    │    └─SimpleSeparateSelectionModule: 3-12         46,828\n",
      "│    └─Embedding: 2-2                                   118,528\n",
      "│    └─GRU: 2-3                                         394,752\n",
      "│    └─Sequential: 2-4                                  --\n",
      "│    │    └─Linear: 3-13                                65,792\n",
      "│    │    └─Dropout: 3-14                               --\n",
      "│    └─Linear: 2-5                                      131,328\n",
      "│    └─GRU: 2-6                                         394,752\n",
      "│    └─GRUCell: 2-7                                     394,752\n",
      "│    └─Dropout: 2-8                                     --\n",
      "├─MlpContextEncoder: 1-2                                --\n",
      "│    └─Sequential: 2-9                                  --\n",
      "│    │    └─Embedding: 3-15                             704\n",
      "│    │    └─Dropout: 3-16                               --\n",
      "│    └─Sequential: 2-10                                 --\n",
      "│    │    └─Embedding: 3-17                             704\n",
      "│    │    └─Dropout: 3-18                               --\n",
      "│    └─Sequential: 2-11                                 --\n",
      "│    │    └─Linear: 3-19                                12,352\n",
      "│    │    └─Tanh: 3-20                                  --\n",
      "├─Embedding: 1-3                                        118,528\n",
      "├─GRU: 1-4                                              394,752\n",
      "├─Sequential: 1-5                                       --\n",
      "│    └─Linear: 2-12                                     147,712\n",
      "│    └─Tanh: 2-13                                       --\n",
      "├─ShardedLatentBottleneckModule: 1-6                    --\n",
      "│    └─Embedding: 2-14                                  358,400\n",
      "│    └─Embedding: 2-15                                  358,400\n",
      "│    └─Embedding: 2-16                                  1,400\n",
      "├─RecurrentUnit: 1-7                                    --\n",
      "│    └─Sequential: 2-17                                 --\n",
      "│    │    └─Linear: 3-21                                65,792\n",
      "│    │    └─Tanh: 3-22                                  --\n",
      "│    └─GRUCell: 2-18                                    394,752\n",
      "├─Dropout: 1-8                                          --\n",
      "├─KLDivLoss: 1-9                                        --\n",
      "================================================================================\n",
      "Total params: 6,109,020\n",
      "Trainable params: 6,109,020\n",
      "Non-trainable params: 0\n",
      "================================================================================\n"
     ]
    },
    {
     "data": {
      "text/plain": [
       "================================================================================\n",
       "Layer (type:depth-idx)                                  Param #\n",
       "================================================================================\n",
       "LatentClusteringPredictionModel                         --\n",
       "├─LatentClusteringLanguageModel: 1-1                    --\n",
       "│    └─LatentClusteringModel: 2-1                       --\n",
       "│    │    └─MlpContextEncoder: 3-1                      13,760\n",
       "│    │    └─Embedding: 3-2                              118,528\n",
       "│    │    └─Sequential: 3-3                             65,792\n",
       "│    │    └─Linear: 3-4                                 65,792\n",
       "│    │    └─GRU: 3-5                                    394,752\n",
       "│    │    └─Sequential: 3-6                             147,712\n",
       "│    │    └─GRU: 3-7                                    394,752\n",
       "│    │    └─GRUCell: 3-8                                394,752\n",
       "│    │    └─ShardedLatentBottleneckModule: 3-9          718,200\n",
       "│    │    └─GRUCell: 3-10                               394,752\n",
       "│    │    └─Dropout: 3-11                               --\n",
       "│    │    └─SimpleSeparateSelectionModule: 3-12         46,828\n",
       "│    └─Embedding: 2-2                                   118,528\n",
       "│    └─GRU: 2-3                                         394,752\n",
       "│    └─Sequential: 2-4                                  --\n",
       "│    │    └─Linear: 3-13                                65,792\n",
       "│    │    └─Dropout: 3-14                               --\n",
       "│    └─Linear: 2-5                                      131,328\n",
       "│    └─GRU: 2-6                                         394,752\n",
       "│    └─GRUCell: 2-7                                     394,752\n",
       "│    └─Dropout: 2-8                                     --\n",
       "├─MlpContextEncoder: 1-2                                --\n",
       "│    └─Sequential: 2-9                                  --\n",
       "│    │    └─Embedding: 3-15                             704\n",
       "│    │    └─Dropout: 3-16                               --\n",
       "│    └─Sequential: 2-10                                 --\n",
       "│    │    └─Embedding: 3-17                             704\n",
       "│    │    └─Dropout: 3-18                               --\n",
       "│    └─Sequential: 2-11                                 --\n",
       "│    │    └─Linear: 3-19                                12,352\n",
       "│    │    └─Tanh: 3-20                                  --\n",
       "├─Embedding: 1-3                                        118,528\n",
       "├─GRU: 1-4                                              394,752\n",
       "├─Sequential: 1-5                                       --\n",
       "│    └─Linear: 2-12                                     147,712\n",
       "│    └─Tanh: 2-13                                       --\n",
       "├─ShardedLatentBottleneckModule: 1-6                    --\n",
       "│    └─Embedding: 2-14                                  358,400\n",
       "│    └─Embedding: 2-15                                  358,400\n",
       "│    └─Embedding: 2-16                                  1,400\n",
       "├─RecurrentUnit: 1-7                                    --\n",
       "│    └─Sequential: 2-17                                 --\n",
       "│    │    └─Linear: 3-21                                65,792\n",
       "│    │    └─Tanh: 3-22                                  --\n",
       "│    └─GRUCell: 2-18                                    394,752\n",
       "├─Dropout: 1-8                                          --\n",
       "├─KLDivLoss: 1-9                                        --\n",
       "================================================================================\n",
       "Total params: 6,109,020\n",
       "Trainable params: 6,109,020\n",
       "Non-trainable params: 0\n",
       "================================================================================"
      ]
     },
     "execution_count": 105,
     "metadata": {},
     "output_type": "execute_result"
    }
   ],
   "source": [
    "from torchinfo import summary\n",
    "summary(model, verbose=1)\n"
   ]
  },
  {
   "cell_type": "code",
   "execution_count": 91,
   "metadata": {},
   "outputs": [
    {
     "name": "stdout",
     "output_type": "stream",
     "text": [
      "===============================================================================================\n",
      "Layer (type:depth-idx)                        Output Shape              Param #\n",
      "===============================================================================================\n",
      "LatentClusteringModel                         --                        --\n",
      "├─SimpleSeparateSelectionModule: 1-12         --                        --\n",
      "│    └─ModuleList: 2-1                        --                        --\n",
      "├─MlpContextEncoder: 1-1                      [1, 1]                    --\n",
      "│    └─Sequential: 2-2                        [3, 1, 64]                --\n",
      "│    │    └─Embedding: 3-1                    [3, 1, 64]                704\n",
      "│    │    └─Dropout: 3-2                      [3, 1, 64]                --\n",
      "│    └─Sequential: 2-3                        [3, 1, 64]                --\n",
      "│    │    └─Embedding: 3-3                    [3, 1, 64]                704\n",
      "│    │    └─Dropout: 3-4                      [3, 1, 64]                --\n",
      "│    └─Sequential: 2-4                        [1, 1]                    --\n",
      "│    │    └─Linear: 3-5                       [1, 1]                    12,352\n",
      "├─Embedding: 1-2                              --                        118,528\n",
      "├─Sequential: 1-3                             --                        --\n",
      "│    └─Linear: 2-5                            --                        65,792\n",
      "│    └─Dropout: 2-6                           --                        --\n",
      "├─Linear: 1-4                                 --                        65,792\n",
      "├─GRU: 1-5                                    --                        394,752\n",
      "├─Sequential: 1-6                             --                        --\n",
      "│    └─Linear: 2-7                            --                        147,712\n",
      "│    └─Tanh: 2-8                              --                        --\n",
      "├─GRU: 1-7                                    --                        394,752\n",
      "├─GRUCell: 1-8                                --                        394,752\n",
      "├─ShardedLatentBottleneckModule: 1-9          --                        --\n",
      "│    └─Embedding: 2-9                         --                        358,400\n",
      "│    └─Embedding: 2-10                        --                        358,400\n",
      "│    └─Embedding: 2-11                        --                        1,400\n",
      "├─GRUCell: 1-10                               --                        394,752\n",
      "├─Dropout: 1-11                               --                        --\n",
      "├─SimpleSeparateSelectionModule: 1-12         --                        --\n",
      "│    └─Sequential: 2-12                       --                        --\n",
      "│    │    └─Linear: 3-6                       --                        16,448\n",
      "│    │    └─Tanh: 3-7                         --                        --\n",
      "│    │    └─Dropout: 3-8                      --                        --\n",
      "│    └─ModuleList: 2-13                       --                        (recursive)\n",
      "│    │    └─Linear: 3-9                       --                        1,170\n",
      "│    │    └─Linear: 3-10                      --                        1,170\n",
      "│    │    └─Linear: 3-11                      --                        1,170\n",
      "│    │    └─Linear: 3-12                      --                        1,170\n",
      "│    │    └─Linear: 3-13                      --                        1,170\n",
      "│    │    └─Linear: 3-14                      --                        1,170\n",
      "├─MlpContextEncoder: 1                        --                        --\n",
      "│    └─Sequential: 2                          --                        --\n",
      "│    │    └─Tanh: 3-15                        [1, 1]                    --\n",
      "===============================================================================================\n",
      "Total params: 2,732,260\n",
      "Trainable params: 2,732,260\n",
      "Non-trainable params: 0\n",
      "Total mult-adds (M): 0.02\n",
      "===============================================================================================\n",
      "Input size (MB): 0.00\n",
      "Forward/backward pass size (MB): 0.00\n",
      "Params size (MB): 10.93\n",
      "Estimated Total Size (MB): 10.93\n",
      "===============================================================================================\n"
     ]
    },
    {
     "data": {
      "text/plain": [
       "===============================================================================================\n",
       "Layer (type:depth-idx)                        Output Shape              Param #\n",
       "===============================================================================================\n",
       "LatentClusteringModel                         --                        --\n",
       "├─SimpleSeparateSelectionModule: 1-12         --                        --\n",
       "│    └─ModuleList: 2-1                        --                        --\n",
       "├─MlpContextEncoder: 1-1                      [1, 1]                    --\n",
       "│    └─Sequential: 2-2                        [3, 1, 64]                --\n",
       "│    │    └─Embedding: 3-1                    [3, 1, 64]                704\n",
       "│    │    └─Dropout: 3-2                      [3, 1, 64]                --\n",
       "│    └─Sequential: 2-3                        [3, 1, 64]                --\n",
       "│    │    └─Embedding: 3-3                    [3, 1, 64]                704\n",
       "│    │    └─Dropout: 3-4                      [3, 1, 64]                --\n",
       "│    └─Sequential: 2-4                        [1, 1]                    --\n",
       "│    │    └─Linear: 3-5                       [1, 1]                    12,352\n",
       "├─Embedding: 1-2                              --                        118,528\n",
       "├─Sequential: 1-3                             --                        --\n",
       "│    └─Linear: 2-5                            --                        65,792\n",
       "│    └─Dropout: 2-6                           --                        --\n",
       "├─Linear: 1-4                                 --                        65,792\n",
       "├─GRU: 1-5                                    --                        394,752\n",
       "├─Sequential: 1-6                             --                        --\n",
       "│    └─Linear: 2-7                            --                        147,712\n",
       "│    └─Tanh: 2-8                              --                        --\n",
       "├─GRU: 1-7                                    --                        394,752\n",
       "├─GRUCell: 1-8                                --                        394,752\n",
       "├─ShardedLatentBottleneckModule: 1-9          --                        --\n",
       "│    └─Embedding: 2-9                         --                        358,400\n",
       "│    └─Embedding: 2-10                        --                        358,400\n",
       "│    └─Embedding: 2-11                        --                        1,400\n",
       "├─GRUCell: 1-10                               --                        394,752\n",
       "├─Dropout: 1-11                               --                        --\n",
       "├─SimpleSeparateSelectionModule: 1-12         --                        --\n",
       "│    └─Sequential: 2-12                       --                        --\n",
       "│    │    └─Linear: 3-6                       --                        16,448\n",
       "│    │    └─Tanh: 3-7                         --                        --\n",
       "│    │    └─Dropout: 3-8                      --                        --\n",
       "│    └─ModuleList: 2-13                       --                        (recursive)\n",
       "│    │    └─Linear: 3-9                       --                        1,170\n",
       "│    │    └─Linear: 3-10                      --                        1,170\n",
       "│    │    └─Linear: 3-11                      --                        1,170\n",
       "│    │    └─Linear: 3-12                      --                        1,170\n",
       "│    │    └─Linear: 3-13                      --                        1,170\n",
       "│    │    └─Linear: 3-14                      --                        1,170\n",
       "├─MlpContextEncoder: 1                        --                        --\n",
       "│    └─Sequential: 2                          --                        --\n",
       "│    │    └─Tanh: 3-15                        [1, 1]                    --\n",
       "===============================================================================================\n",
       "Total params: 2,732,260\n",
       "Trainable params: 2,732,260\n",
       "Non-trainable params: 0\n",
       "Total mult-adds (M): 0.02\n",
       "===============================================================================================\n",
       "Input size (MB): 0.00\n",
       "Forward/backward pass size (MB): 0.00\n",
       "Params size (MB): 10.93\n",
       "Estimated Total Size (MB): 10.93\n",
       "==============================================================================================="
      ]
     },
     "execution_count": 91,
     "metadata": {},
     "output_type": "execute_result"
    }
   ],
   "source": [
    "summary(model, input_data=sample_in, batch_dim=1, col_names=['output_size', 'num_params'], verbose=1)"
   ]
  },
  {
   "cell_type": "code",
   "execution_count": 110,
   "metadata": {},
   "outputs": [
    {
     "data": {
      "text/plain": [
       "['1', '2', '3', '0', '4', '6', '5', '7', '8', '10', '9']"
      ]
     },
     "execution_count": 110,
     "metadata": {},
     "output_type": "execute_result"
    }
   ],
   "source": [
    "corpus.context_dict.idx2word\n"
   ]
  },
  {
   "cell_type": "code",
   "execution_count": null,
   "metadata": {},
   "outputs": [],
   "source": [
    "crit = Criterion(model.word_dict, device_id=device_id)\n",
    "sel_crit = Criterion(model.item_dict, device_id=device_id,\n",
    "        bad_toks=['<disconnect>', '<disagree>'])\n",
    "\n",
    "engine = model_ty.engine_ty(model, args, verbose=True)\n",
    "\n",
    "\n",
    "\n",
    "testset, testset_stats = corpus.test_dataset(args.bsz)\n",
    "\n",
    "total_valid_loss, total_select_loss, total_partner_ctx_loss, extra = engine.test_pass(testset, testset_stats)\n"
   ]
  },
  {
   "cell_type": "code",
   "execution_count": 61,
   "metadata": {},
   "outputs": [
    {
     "name": "stdout",
     "output_type": "stream",
     "text": [
      "tensor([[[15]]])\n",
      "THEM: if i can have the ball and two books you can have the rest <eos> \n",
      "tensor([[[9]]])\n",
      "YOU: i keep the ball you get <unk> else <eos> \n",
      "tensor([[[22]]])\n",
      "THEM: i can not make that deal . i need the ball as well . are you willing to make another deal <eos> \n",
      "tensor([[[9]]])\n",
      "YOU: you get the ball i get everything else <eos> \n",
      "tensor([[[4]]])\n",
      "THEM: okay deal . <eos> \n",
      "tensor([[[1]]])\n",
      "YOU: <selection> \n",
      "tensor([[[0]]])\n",
      "<pad> \n"
     ]
    }
   ],
   "source": [
    "\n",
    "for inp, hid in zip(inpts, hid_idxs):\n",
    "    hids = ''\n",
    "    dialog = ''\n",
    "    for i in inp:\n",
    "        dialog = dialog + ' '.join(corpus.word_dict.i2w(i)) + ' '\n",
    "    print(hid)\n",
    "    print(dialog)"
   ]
  },
  {
   "cell_type": "code",
   "execution_count": null,
   "metadata": {},
   "outputs": [],
   "source": [
    "    def _forward(self, batch):\n",
    "        ctx, _, inpts, lens, tgts, sel_tgt, rev_idxs, hid_idxs, cnt = batch\n",
    "        ctx = Variable(ctx)\n",
    "        cnt = Variable(cnt)\n",
    "        inpts = [Variable(inpt) for inpt in inpts]\n",
    "        tgts = [Variable(tgt) for tgt in tgts]\n",
    "        rev_idxs = [Variable(idx) for idx in rev_idxs]\n",
    "        hid_idxs = [Variable(idx) for idx in hid_idxs]\n",
    "\n",
    "        losses, stats = self.model.forward(inpts, tgts, hid_idxs, ctx, cnt)\n",
    "\n",
    "        return losses, stats, lens"
   ]
  },
  {
   "cell_type": "code",
   "execution_count": null,
   "metadata": {},
   "outputs": [],
   "source": [
    "extra['output'][0].shape"
   ]
  },
  {
   "cell_type": "code",
   "execution_count": null,
   "metadata": {},
   "outputs": [],
   "source": [
    "def input_map(batch, sep_sel=True):\n",
    "    ctx, _, inpts, lens, _, sel_tgt, rev_idxs, hid_idxs, _ = batch\n",
    "    ctx = Variable(ctx)\n",
    "    inpts = [Variable(inpt) for inpt in inpts]\n",
    "    rev_idxs = [Variable(idx) for idx in rev_idxs]\n",
    "    hid_idxs = [Variable(idx) for idx in hid_idxs]\n",
    "    if sep_sel:\n",
    "        sel_tgt = Variable(sel_tgt)\n",
    "    else:\n",
    "        sel_tgt = [Variable(t) for t in sel_tgt]\n",
    "\n",
    "        # remove YOU:/THEM: from the end\n",
    "    return(inpts[:-1], lens[:-1], rev_idxs[:-1], hid_idxs[:-1], ctx, sel_tgt)"
   ]
  },
  {
   "cell_type": "code",
   "execution_count": null,
   "metadata": {},
   "outputs": [],
   "source": [
    "sentences = []\n",
    "target = []\n",
    "output = []\n",
    "for i in range(len(extra['input'])):\n",
    "    in1, in2, in3, in4, in5, tgt = input_map(extra['input'][i])\n",
    "    out1 = extra['output'][i] \n",
    "    dialog = ''\n",
    "    for i in in1:\n",
    "        dialog = dialog + ' '.join(corpus.word_dict.i2w(i)) + ' '\n",
    "    sentences.append(dialog)\n",
    "    target.append(corpus.item_dict_old.i2w(tgt))\n",
    "    output.append(corpus.item_dict_old.i2w(torch.argmax(out1, dim=1)))"
   ]
  },
  {
   "cell_type": "code",
   "execution_count": null,
   "metadata": {},
   "outputs": [],
   "source": []
  },
  {
   "cell_type": "code",
   "execution_count": null,
   "metadata": {},
   "outputs": [],
   "source": [
    "df = pd.DataFrame({'sentences': sentences, 'targets':target, 'outputs':output})\n",
    "df"
   ]
  },
  {
   "cell_type": "code",
   "execution_count": null,
   "metadata": {},
   "outputs": [],
   "source": [
    "(df['targets'] == df['outputs']).mean()"
   ]
  },
  {
   "cell_type": "code",
   "execution_count": null,
   "metadata": {},
   "outputs": [],
   "source": [
    "for i in in1:\n",
    "    print(corpus.word_dict.i2w(i))"
   ]
  },
  {
   "cell_type": "code",
   "execution_count": null,
   "metadata": {},
   "outputs": [],
   "source": []
  },
  {
   "cell_type": "code",
   "execution_count": null,
   "metadata": {},
   "outputs": [],
   "source": [
    "in4"
   ]
  },
  {
   "cell_type": "code",
   "execution_count": null,
   "metadata": {},
   "outputs": [],
   "source": [
    "corpus.word_dict.i2w(in1[0][:,0])"
   ]
  },
  {
   "cell_type": "code",
   "execution_count": null,
   "metadata": {},
   "outputs": [],
   "source": [
    "corpus.context_dict.i2w(in5[:,0])"
   ]
  },
  {
   "cell_type": "code",
   "execution_count": null,
   "metadata": {},
   "outputs": [],
   "source": [
    "corpus.word_dict.i2w(in1[0][:,2])"
   ]
  },
  {
   "cell_type": "code",
   "execution_count": null,
   "metadata": {},
   "outputs": [],
   "source": [
    "corpus.item_dict_old.i2w(in5[:,0])"
   ]
  },
  {
   "cell_type": "code",
   "execution_count": null,
   "metadata": {},
   "outputs": [],
   "source": [
    "#             batches.append((ctx, partner_ctx, inpts, lens, tgts, sel_tgt, rev_idxs, hid_idxs, cnt))"
   ]
  },
  {
   "cell_type": "code",
   "execution_count": null,
   "metadata": {},
   "outputs": [],
   "source": [
    "def make_readable(corpus, batch):\n",
    "    "
   ]
  },
  {
   "cell_type": "code",
   "execution_count": null,
   "metadata": {},
   "outputs": [],
   "source": [
    "type(corpus)"
   ]
  },
  {
   "cell_type": "code",
   "execution_count": null,
   "metadata": {},
   "outputs": [],
   "source": []
  }
 ],
 "metadata": {
  "kernelspec": {
   "display_name": "Python 3",
   "language": "python",
   "name": "python3"
  },
  "language_info": {
   "codemirror_mode": {
    "name": "ipython",
    "version": 3
   },
   "file_extension": ".py",
   "mimetype": "text/x-python",
   "name": "python",
   "nbconvert_exporter": "python",
   "pygments_lexer": "ipython3",
   "version": "3.7.9"
  },
  "varInspector": {
   "cols": {
    "lenName": 16,
    "lenType": 16,
    "lenVar": 40
   },
   "kernels_config": {
    "python": {
     "delete_cmd_postfix": "",
     "delete_cmd_prefix": "del ",
     "library": "var_list.py",
     "varRefreshCmd": "print(var_dic_list())"
    },
    "r": {
     "delete_cmd_postfix": ") ",
     "delete_cmd_prefix": "rm(",
     "library": "var_list.r",
     "varRefreshCmd": "cat(var_dic_list()) "
    }
   },
   "types_to_exclude": [
    "module",
    "function",
    "builtin_function_or_method",
    "instance",
    "_Feature"
   ],
   "window_display": false
  }
 },
 "nbformat": 4,
 "nbformat_minor": 4
}
