{
 "cells": [
  {
   "cell_type": "code",
   "execution_count": 1,
   "metadata": {},
   "outputs": [],
   "source": [
    "import argparse\n",
    "import pandas as pd\n",
    "\n",
    "import numpy as np\n",
    "import torch\n",
    "from torch.autograd import Variable\n",
    "\n",
    "import data\n",
    "import utils\n",
    "import models\n",
    "from domain import get_domain\n",
    "from engines.engine import Criterion\n"
   ]
  },
  {
   "cell_type": "code",
   "execution_count": 2,
   "metadata": {},
   "outputs": [
    {
     "data": {
      "text/plain": [
       "_StoreAction(option_strings=['--sample_file'], dest='sample_file', nargs=None, const=None, default=None, type=<class 'str'>, choices=None, help='pretrained model file', metavar=None)"
      ]
     },
     "execution_count": 2,
     "metadata": {},
     "output_type": "execute_result"
    }
   ],
   "source": [
    "parser = argparse.ArgumentParser(description='testing script')\n",
    "parser.add_argument('--data', type=str, default='data/negotiate', help='location of the data corpus')\n",
    "parser.add_argument('--unk_threshold', type=int, default=20, help='minimum word frequency to be in dictionary')\n",
    "parser.add_argument('--model_file', type=str, help='pretrained model file')\n",
    "parser.add_argument('--seed', type=int, default=1, help='random seed')\n",
    "parser.add_argument('--hierarchical', action='store_true', default=False, help='use hierarchical model')\n",
    "parser.add_argument('--bsz', type=int, default=16, help='batch size')\n",
    "parser.add_argument('--cuda', action='store_true', default=False, help='use CUDA')\n",
    "parser.add_argument('--domain', type=str, default='object_division', help='domain for the dialogue')\n",
    "parser.add_argument('--sep_sel', action='store_true', default=False, help='use separate classifiers for selection')\n",
    "parser.add_argument('--model_type', type=str, default='rnn_model', help='model type', choices=models.get_model_names())\n",
    "parser.add_argument('--lr', type=float, default=20.0, help='initial learning rate')\n",
    "parser.add_argument('--min_lr', type=float, default=1e-5, help='min threshold for learning rate annealing')\n",
    "parser.add_argument('--decay_rate', type=float,  default=9.0, help='decrease learning rate by this factor')\n",
    "parser.add_argument('--decay_every', type=int,  default=1, help='decrease learning rate after decay_every epochs')\n",
    "parser.add_argument('--momentum', type=float, default=0.0, help='momentum for sgd')\n",
    "parser.add_argument('--clip', type=float, default=0.2, help='gradient clipping')\n",
    "parser.add_argument('--visual', action='store_true', default=False, help='plot graphs')\n",
    "parser.add_argument('--sample_file', type=str, help='pretrained model file')\n",
    "\n"
   ]
  },
  {
   "cell_type": "code",
   "execution_count": 3,
   "metadata": {},
   "outputs": [],
   "source": [
    "args = parser.parse_args(['--cuda', '--model_file=selection_model.th', '--bsz=1', '--domain=object_division', '--sep_sel', '--model_type=selection_model', '--lr=0.001'])"
   ]
  },
  {
   "cell_type": "code",
   "execution_count": null,
   "metadata": {},
   "outputs": [],
   "source": []
  },
  {
   "cell_type": "code",
   "execution_count": 4,
   "metadata": {},
   "outputs": [
    {
     "name": "stdout",
     "output_type": "stream",
     "text": [
      "dataset data/negotiate/train.txt, total 687919, unks 8718, ratio 1.27%\n",
      "sample input:  [1, 0, 0, 5, 1, 0]\n",
      "sample input i2w:  ['2', '1', '1', '6', '2', '1']\n",
      "sample words:  ['YOU:', \"i'd\", 'like', 'the', 'hat', 'and', '1', 'ball', '.', '<eos>', 'THEM:', 'i', 'need', 'both', 'balls', '<eos>', 'YOU:', 'ok', '.', '<eos>', 'THEM:', '<selection>']\n",
      "Sample output:  ['item0=2', 'item1=1', 'item2=0', 'item0=0', 'item1=0', 'item2=2']\n",
      "dataset data/negotiate/val.txt, total 74653, unks 914, ratio 1.22%\n",
      "sample input:  [0, 9, 2, 3, 0, 3]\n",
      "sample input i2w:  ['1', '10', '3', '0', '1', '0']\n",
      "sample words:  ['YOU:', 'i', 'need', 'the', 'book', 'and', 'two', 'hats', '<eos>', 'THEM:', 'i', 'get', 'the', 'ball', 'and', '1', 'hat', '<eos>', 'YOU:', 'actually', 'i', 'just', 'need', 'the', 'book', ',', 'so', 'you', 'can', 'have', 'the', 'rest', 'of', 'it', '<eos>', 'THEM:', 'you', 'get', 'book', 'since', 'its', 'worth', '10', 'to', 'you', 'i', 'get', 'the', 'rest', '.', 'deal', '<eos>', 'YOU:', '<selection>']\n",
      "Sample output:  ['item0=1', 'item1=0', 'item2=0', 'item0=0', 'item1=3', 'item2=1']\n",
      "dataset data/negotiate/test.txt, total 70262, unks 847, ratio 1.21%\n",
      "sample input:  [1, 4, 0, 1, 1, 3]\n",
      "sample input i2w:  ['2', '4', '1', '2', '2', '0']\n",
      "sample words:  ['THEM:', 'i', 'want', 'the', 'balls', 'and', 'a', 'book', '<eos>', 'YOU:', 'i', 'can', 'not', 'make', 'that', 'deal', '.', 'you', 'can', 'have', 'the', 'balls', 'but', ',', 'i', 'need', 'the', 'books', 'and', 'the', 'hat', '<eos>', 'THEM:', 'ok', 'deal', '<eos>', 'YOU:', 'okay', 'great', '.', 'thank', 'you', '!', '<eos>', 'THEM:', '<selection>']\n",
      "Sample output:  ['item0=2', 'item1=1', 'item2=0', 'item0=0', 'item1=0', 'item2=2']\n",
      "|  testloss 0.000 | testppl 1.000\n",
      "|  testselectloss 0.199 | testselectppl 1.220\n",
      "testloss 0.000 | testppl 1.000\n",
      "testselectloss 0.199 | testselectppl 1.220\n",
      "\n"
     ]
    }
   ],
   "source": [
    "device_id = utils.use_cuda(args.cuda)\n",
    "utils.set_seed(args.seed)\n",
    "\n",
    "domain = get_domain(args.domain)\n",
    "model_ty = models.get_model_type(args.model_type)\n",
    "\n",
    "corpus = model_ty.corpus_ty(domain, args.data, freq_cutoff=args.unk_threshold,\n",
    "        verbose=True, sep_sel=args.sep_sel)\n",
    "\n",
    "model = utils.load_model(args.model_file)\n",
    "\n",
    "crit = Criterion(model.word_dict, device_id=device_id)\n",
    "sel_crit = Criterion(model.item_dict, device_id=device_id,\n",
    "        bad_toks=['<disconnect>', '<disagree>'])\n",
    "\n",
    "engine = model_ty.engine_ty(model, args, verbose=True)\n",
    "test_loss, test_select_loss, extra = engine.test(corpus)\n",
    "\n",
    "    #testset, testset_stats = corpus.test_dataset(args.bsz)\n",
    "    #test_loss, test_select_loss = 0, 0\n",
    "\n",
    "    #N = len(corpus.word_dict)\n",
    "    #for batch in testset:\n",
    "        # run forward on the batch, produces output, hidden, target,\n",
    "        # selection output and selection target\n",
    "        #out, hid, tgt, sel_out, sel_tgt = engine.forward(model, batch)\n",
    "        #engine.valid_batch(batch)\n",
    "        # compute LM and selection losses\n",
    "        #test_loss += tgt.size(0) * crit(out.view(-1, N), tgt).data[0]\n",
    "        #test_select_loss += sel_crit(sel_out, sel_tgt).data[0]\n",
    "\n",
    "    #test_loss /= testset_stats['nonpadn']\n",
    "    #test_select_loss /= len(testset)\n",
    "print('testloss %.3f | testppl %.3f' % (test_loss, np.exp(test_loss)))\n",
    "print('testselectloss %.3f | testselectppl %.3f' % (test_select_loss, np.exp(test_select_loss)))\n",
    "print()\n",
    "    #print('extra: ', extra)"
   ]
  },
  {
   "cell_type": "code",
   "execution_count": 5,
   "metadata": {},
   "outputs": [
    {
     "data": {
      "text/plain": [
       "torch.Size([6, 18])"
      ]
     },
     "execution_count": 5,
     "metadata": {},
     "output_type": "execute_result"
    }
   ],
   "source": [
    "extra['output'][0].shape"
   ]
  },
  {
   "cell_type": "code",
   "execution_count": 6,
   "metadata": {},
   "outputs": [],
   "source": [
    "def input_map(batch, sep_sel=True):\n",
    "    ctx, _, inpts, lens, _, sel_tgt, rev_idxs, hid_idxs, _ = batch\n",
    "    ctx = Variable(ctx)\n",
    "    inpts = [Variable(inpt) for inpt in inpts]\n",
    "    rev_idxs = [Variable(idx) for idx in rev_idxs]\n",
    "    hid_idxs = [Variable(idx) for idx in hid_idxs]\n",
    "    if sep_sel:\n",
    "        sel_tgt = Variable(sel_tgt)\n",
    "    else:\n",
    "        sel_tgt = [Variable(t) for t in sel_tgt]\n",
    "\n",
    "        # remove YOU:/THEM: from the end\n",
    "    return(inpts[:-1], lens[:-1], rev_idxs[:-1], hid_idxs[:-1], ctx, sel_tgt)"
   ]
  },
  {
   "cell_type": "code",
   "execution_count": 10,
   "metadata": {},
   "outputs": [],
   "source": [
    "sentences = []\n",
    "target = []\n",
    "output = []\n",
    "for i in range(len(extra['input'])):\n",
    "    in1, in2, in3, in4, in5, tgt = input_map(extra['input'][i])\n",
    "    out1 = extra['output'][i] \n",
    "    dialog = ''\n",
    "    for i in in1:\n",
    "        dialog = dialog + ' '.join(corpus.word_dict.i2w(i)) + ' '\n",
    "    sentences.append(dialog)\n",
    "    target.append(corpus.item_dict_old.i2w(tgt))\n",
    "    output.append(corpus.item_dict_old.i2w(torch.argmax(out1, dim=1)))"
   ]
  },
  {
   "cell_type": "code",
   "execution_count": null,
   "metadata": {},
   "outputs": [],
   "source": []
  },
  {
   "cell_type": "code",
   "execution_count": 13,
   "metadata": {},
   "outputs": [
    {
     "data": {
      "text/html": [
       "<div>\n",
       "<style scoped>\n",
       "    .dataframe tbody tr th:only-of-type {\n",
       "        vertical-align: middle;\n",
       "    }\n",
       "\n",
       "    .dataframe tbody tr th {\n",
       "        vertical-align: top;\n",
       "    }\n",
       "\n",
       "    .dataframe thead th {\n",
       "        text-align: right;\n",
       "    }\n",
       "</style>\n",
       "<table border=\"1\" class=\"dataframe\">\n",
       "  <thead>\n",
       "    <tr style=\"text-align: right;\">\n",
       "      <th></th>\n",
       "      <th>sentences</th>\n",
       "      <th>targets</th>\n",
       "      <th>outputs</th>\n",
       "    </tr>\n",
       "  </thead>\n",
       "  <tbody>\n",
       "    <tr>\n",
       "      <th>0</th>\n",
       "      <td>THEM: if i can have the ball and two books you...</td>\n",
       "      <td>[item0=3, item1=1, item2=0, item0=0, item1=0, ...</td>\n",
       "      <td>[item0=3, item1=1, item2=0, item0=0, item1=0, ...</td>\n",
       "    </tr>\n",
       "    <tr>\n",
       "      <th>1</th>\n",
       "      <td>THEM: i would like the hat and one book &lt;eos&gt; ...</td>\n",
       "      <td>[&lt;no_agreement&gt;, &lt;no_agreement&gt;, &lt;no_agreement...</td>\n",
       "      <td>[&lt;no_agreement&gt;, &lt;no_agreement&gt;, &lt;no_agreement...</td>\n",
       "    </tr>\n",
       "    <tr>\n",
       "      <th>2</th>\n",
       "      <td>THEM: gimme hat , the rest is yours ! &lt;eos&gt; YO...</td>\n",
       "      <td>[item0=2, item1=0, item2=3, item0=0, item1=1, ...</td>\n",
       "      <td>[item0=2, item1=0, item2=3, item0=0, item1=1, ...</td>\n",
       "    </tr>\n",
       "    <tr>\n",
       "      <th>3</th>\n",
       "      <td>YOU: i'd like the book , one hat , and one bal...</td>\n",
       "      <td>[item0=1, item1=0, item2=3, item0=0, item1=2, ...</td>\n",
       "      <td>[item0=0, item1=2, item2=0, item0=1, item1=0, ...</td>\n",
       "    </tr>\n",
       "    <tr>\n",
       "      <th>4</th>\n",
       "      <td>THEM: i just want the ball , you can have the ...</td>\n",
       "      <td>[&lt;no_agreement&gt;, &lt;no_agreement&gt;, &lt;no_agreement...</td>\n",
       "      <td>[&lt;no_agreement&gt;, &lt;no_agreement&gt;, &lt;no_agreement...</td>\n",
       "    </tr>\n",
       "    <tr>\n",
       "      <th>...</th>\n",
       "      <td>...</td>\n",
       "      <td>...</td>\n",
       "      <td>...</td>\n",
       "    </tr>\n",
       "    <tr>\n",
       "      <th>1047</th>\n",
       "      <td>YOU: hi i would like the books and balls and y...</td>\n",
       "      <td>[item0=1, item1=0, item2=3, item0=1, item1=2, ...</td>\n",
       "      <td>[item0=1, item1=2, item2=0, item0=1, item1=0, ...</td>\n",
       "    </tr>\n",
       "    <tr>\n",
       "      <th>1048</th>\n",
       "      <td>THEM: how about i take the books and you can h...</td>\n",
       "      <td>[item0=1, item1=0, item2=2, item0=1, item1=2, ...</td>\n",
       "      <td>[item0=1, item1=0, item2=2, item0=1, item1=2, ...</td>\n",
       "    </tr>\n",
       "    <tr>\n",
       "      <th>1049</th>\n",
       "      <td>YOU: i'd like to keep two books , you can have...</td>\n",
       "      <td>[&lt;disagree&gt;, &lt;disagree&gt;, &lt;disagree&gt;, &lt;disagree...</td>\n",
       "      <td>[item0=3, item1=0, item2=0, item0=0, item1=2, ...</td>\n",
       "    </tr>\n",
       "    <tr>\n",
       "      <th>1050</th>\n",
       "      <td>YOU: could i have two books and a ball please ...</td>\n",
       "      <td>[item0=1, item1=1, item2=1, item0=1, item1=1, ...</td>\n",
       "      <td>[item0=1, item1=0, item2=1, item0=1, item1=2, ...</td>\n",
       "    </tr>\n",
       "    <tr>\n",
       "      <th>1051</th>\n",
       "      <td>THEM: i want the hat and ball &lt;eos&gt; YOU: i wan...</td>\n",
       "      <td>[&lt;no_agreement&gt;, &lt;no_agreement&gt;, &lt;no_agreement...</td>\n",
       "      <td>[&lt;no_agreement&gt;, &lt;no_agreement&gt;, &lt;no_agreement...</td>\n",
       "    </tr>\n",
       "  </tbody>\n",
       "</table>\n",
       "<p>1052 rows × 3 columns</p>\n",
       "</div>"
      ],
      "text/plain": [
       "                                              sentences  \\\n",
       "0     THEM: if i can have the ball and two books you...   \n",
       "1     THEM: i would like the hat and one book <eos> ...   \n",
       "2     THEM: gimme hat , the rest is yours ! <eos> YO...   \n",
       "3     YOU: i'd like the book , one hat , and one bal...   \n",
       "4     THEM: i just want the ball , you can have the ...   \n",
       "...                                                 ...   \n",
       "1047  YOU: hi i would like the books and balls and y...   \n",
       "1048  THEM: how about i take the books and you can h...   \n",
       "1049  YOU: i'd like to keep two books , you can have...   \n",
       "1050  YOU: could i have two books and a ball please ...   \n",
       "1051  THEM: i want the hat and ball <eos> YOU: i wan...   \n",
       "\n",
       "                                                targets  \\\n",
       "0     [item0=3, item1=1, item2=0, item0=0, item1=0, ...   \n",
       "1     [<no_agreement>, <no_agreement>, <no_agreement...   \n",
       "2     [item0=2, item1=0, item2=3, item0=0, item1=1, ...   \n",
       "3     [item0=1, item1=0, item2=3, item0=0, item1=2, ...   \n",
       "4     [<no_agreement>, <no_agreement>, <no_agreement...   \n",
       "...                                                 ...   \n",
       "1047  [item0=1, item1=0, item2=3, item0=1, item1=2, ...   \n",
       "1048  [item0=1, item1=0, item2=2, item0=1, item1=2, ...   \n",
       "1049  [<disagree>, <disagree>, <disagree>, <disagree...   \n",
       "1050  [item0=1, item1=1, item2=1, item0=1, item1=1, ...   \n",
       "1051  [<no_agreement>, <no_agreement>, <no_agreement...   \n",
       "\n",
       "                                                outputs  \n",
       "0     [item0=3, item1=1, item2=0, item0=0, item1=0, ...  \n",
       "1     [<no_agreement>, <no_agreement>, <no_agreement...  \n",
       "2     [item0=2, item1=0, item2=3, item0=0, item1=1, ...  \n",
       "3     [item0=0, item1=2, item2=0, item0=1, item1=0, ...  \n",
       "4     [<no_agreement>, <no_agreement>, <no_agreement...  \n",
       "...                                                 ...  \n",
       "1047  [item0=1, item1=2, item2=0, item0=1, item1=0, ...  \n",
       "1048  [item0=1, item1=0, item2=2, item0=1, item1=2, ...  \n",
       "1049  [item0=3, item1=0, item2=0, item0=0, item1=2, ...  \n",
       "1050  [item0=1, item1=0, item2=1, item0=1, item1=2, ...  \n",
       "1051  [<no_agreement>, <no_agreement>, <no_agreement...  \n",
       "\n",
       "[1052 rows x 3 columns]"
      ]
     },
     "execution_count": 13,
     "metadata": {},
     "output_type": "execute_result"
    }
   ],
   "source": [
    "pd.DataFrame({'sentences': sentences, 'targets':target, 'outputs':output})"
   ]
  },
  {
   "cell_type": "code",
   "execution_count": null,
   "metadata": {},
   "outputs": [],
   "source": [
    "for i in in1:\n",
    "    print(corpus.word_dict.i2w(i))"
   ]
  },
  {
   "cell_type": "code",
   "execution_count": null,
   "metadata": {},
   "outputs": [],
   "source": []
  },
  {
   "cell_type": "code",
   "execution_count": null,
   "metadata": {},
   "outputs": [],
   "source": [
    "in4"
   ]
  },
  {
   "cell_type": "code",
   "execution_count": null,
   "metadata": {},
   "outputs": [],
   "source": [
    "corpus.word_dict.i2w(in1[0][:,0])"
   ]
  },
  {
   "cell_type": "code",
   "execution_count": null,
   "metadata": {},
   "outputs": [],
   "source": [
    "corpus.context_dict.i2w(in5[:,0])"
   ]
  },
  {
   "cell_type": "code",
   "execution_count": null,
   "metadata": {},
   "outputs": [],
   "source": [
    "corpus.word_dict.i2w(in1[0][:,2])"
   ]
  },
  {
   "cell_type": "code",
   "execution_count": null,
   "metadata": {},
   "outputs": [],
   "source": [
    "corpus.item_dict_old.i2w(in5[:,0])"
   ]
  },
  {
   "cell_type": "code",
   "execution_count": null,
   "metadata": {},
   "outputs": [],
   "source": [
    "#             batches.append((ctx, partner_ctx, inpts, lens, tgts, sel_tgt, rev_idxs, hid_idxs, cnt))"
   ]
  },
  {
   "cell_type": "code",
   "execution_count": null,
   "metadata": {},
   "outputs": [],
   "source": [
    "def make_readable(corpus, batch):\n",
    "    "
   ]
  },
  {
   "cell_type": "code",
   "execution_count": null,
   "metadata": {},
   "outputs": [],
   "source": [
    "type(corpus)"
   ]
  },
  {
   "cell_type": "code",
   "execution_count": null,
   "metadata": {},
   "outputs": [],
   "source": []
  }
 ],
 "metadata": {
  "kernelspec": {
   "display_name": "Python 3 (ipykernel)",
   "language": "python",
   "name": "python3"
  },
  "language_info": {
   "codemirror_mode": {
    "name": "ipython",
    "version": 3
   },
   "file_extension": ".py",
   "mimetype": "text/x-python",
   "name": "python",
   "nbconvert_exporter": "python",
   "pygments_lexer": "ipython3",
   "version": "3.7.9"
  },
  "varInspector": {
   "cols": {
    "lenName": 16,
    "lenType": 16,
    "lenVar": 40
   },
   "kernels_config": {
    "python": {
     "delete_cmd_postfix": "",
     "delete_cmd_prefix": "del ",
     "library": "var_list.py",
     "varRefreshCmd": "print(var_dic_list())"
    },
    "r": {
     "delete_cmd_postfix": ") ",
     "delete_cmd_prefix": "rm(",
     "library": "var_list.r",
     "varRefreshCmd": "cat(var_dic_list()) "
    }
   },
   "types_to_exclude": [
    "module",
    "function",
    "builtin_function_or_method",
    "instance",
    "_Feature"
   ],
   "window_display": false
  }
 },
 "nbformat": 4,
 "nbformat_minor": 4
}
